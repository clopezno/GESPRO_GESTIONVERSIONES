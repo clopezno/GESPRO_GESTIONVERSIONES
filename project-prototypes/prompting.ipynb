{
 "cells": [
  {
   "cell_type": "markdown",
   "metadata": {},
   "source": [
    "# Prototipo de prompting para comprender el uso de LLM's y su interacción.\n",
    "## Trabajo Fin de Grado - Universidad de Burgos - Ingeniería Informática\n",
    "### Autor: Fernando Pisot Serrano fps1001@alu.ubu.es"
   ]
  },
  {
   "cell_type": "markdown",
   "metadata": {},
   "source": [
    "## Objetivo\n",
    "En este notebook, vamos a construir paso a paso los prompts necesarios para obtener los puntos de interés de una ciudad utilizando un modelo de lenguaje grande (LLM). Al final, el modelo deberá devolver un JSON con los puntos de interés de la ciudad especificada, incluyendo nombre, coordenadas GPS, descripción y URL.\n",
    "## Requisitos\n",
    "Necesitarás una clave API de tavily un buscador en la web y Groq que permite usar LLM Ollama, aunque con una breve modificación podrías usar un modelo local como en el prototipo Langflow. Ambas claves deben estar en un archivo .env en el mismo directorio que el cuaderno."
   ]
  },
  {
   "cell_type": "markdown",
   "metadata": {},
   "source": [
    "## Modelo de LLM\n",
    "Se va a usar Llama 3  para esta versión inicial utilizando una API de GroqCloud siguiendo el ejemplo de la web de meta: https://llama.meta.com/docs/how-to-guides/prompting/ \n"
   ]
  },
  {
   "cell_type": "markdown",
   "metadata": {},
   "source": [
    "**Configuración e intalación de Bibliotecas**\n",
    "\n",
    "Usaremos groq para obtener acceso al modelo: Groq proporciona acceso al motor de inferenci Groq LPU que ofrece acceso a los modelos a muy alta velocidad como se puede ver en la ejecución de los prompts.\n"
   ]
  },
  {
   "cell_type": "code",
   "execution_count": 1,
   "metadata": {},
   "outputs": [
    {
     "name": "stdout",
     "output_type": "stream",
     "text": [
      "Requirement already satisfied: groq in c:\\users\\fer\\appdata\\local\\programs\\python\\python312\\lib\\site-packages (0.10.0)\n",
      "Requirement already satisfied: anyio<5,>=3.5.0 in c:\\users\\fer\\appdata\\local\\programs\\python\\python312\\lib\\site-packages (from groq) (4.4.0)\n",
      "Requirement already satisfied: distro<2,>=1.7.0 in c:\\users\\fer\\appdata\\local\\programs\\python\\python312\\lib\\site-packages (from groq) (1.9.0)\n",
      "Requirement already satisfied: httpx<1,>=0.23.0 in c:\\users\\fer\\appdata\\local\\programs\\python\\python312\\lib\\site-packages (from groq) (0.27.0)\n",
      "Requirement already satisfied: pydantic<3,>=1.9.0 in c:\\users\\fer\\appdata\\local\\programs\\python\\python312\\lib\\site-packages (from groq) (2.8.2)\n",
      "Requirement already satisfied: sniffio in c:\\users\\fer\\appdata\\local\\programs\\python\\python312\\lib\\site-packages (from groq) (1.3.1)\n",
      "Requirement already satisfied: typing-extensions<5,>=4.7 in c:\\users\\fer\\appdata\\local\\programs\\python\\python312\\lib\\site-packages (from groq) (4.12.2)\n",
      "Requirement already satisfied: idna>=2.8 in c:\\users\\fer\\appdata\\local\\programs\\python\\python312\\lib\\site-packages (from anyio<5,>=3.5.0->groq) (3.8)\n",
      "Requirement already satisfied: certifi in c:\\users\\fer\\appdata\\local\\programs\\python\\python312\\lib\\site-packages (from httpx<1,>=0.23.0->groq) (2024.8.30)\n",
      "Requirement already satisfied: httpcore==1.* in c:\\users\\fer\\appdata\\local\\programs\\python\\python312\\lib\\site-packages (from httpx<1,>=0.23.0->groq) (1.0.5)\n",
      "Requirement already satisfied: h11<0.15,>=0.13 in c:\\users\\fer\\appdata\\local\\programs\\python\\python312\\lib\\site-packages (from httpcore==1.*->httpx<1,>=0.23.0->groq) (0.14.0)\n",
      "Requirement already satisfied: annotated-types>=0.4.0 in c:\\users\\fer\\appdata\\local\\programs\\python\\python312\\lib\\site-packages (from pydantic<3,>=1.9.0->groq) (0.7.0)\n",
      "Requirement already satisfied: pydantic-core==2.20.1 in c:\\users\\fer\\appdata\\local\\programs\\python\\python312\\lib\\site-packages (from pydantic<3,>=1.9.0->groq) (2.20.1)\n",
      "Requirement already satisfied: python-dotenv in c:\\users\\fer\\appdata\\local\\programs\\python\\python312\\lib\\site-packages (1.0.1)\n",
      "Note: you may need to restart the kernel to use updated packages.\n"
     ]
    }
   ],
   "source": [
    "import sys\n",
    "!{sys.executable} -m pip install groq\n",
    "%pip install python-dotenv"
   ]
  },
  {
   "cell_type": "markdown",
   "metadata": {},
   "source": [
    "**Cargar un Modelo y Generar Texto**\n",
    "\n",
    "En esta sección, cargaremos un modelo de lenguaje y generaremos texto a partir de un prompt dado."
   ]
  },
  {
   "cell_type": "code",
   "execution_count": 3,
   "metadata": {},
   "outputs": [],
   "source": [
    "import os\n",
    "from typing import Dict, List\n",
    "from groq import Groq\n",
    "from dotenv import load_dotenv\n",
    "\n",
    "# Cargar variables de entorno desde el archivo .env\n",
    "load_dotenv()\n",
    "\n",
    "os.environ[\"GROQ_API_KEY\"] = os.getenv('GROQ_API_KEY')\n",
    "\n",
    "\n",
    "LLAMA3_70B_INSTRUCT = \"llama3-70b-8192\"\n",
    "LLAMA3_8B_INSTRUCT = \"llama3-8b-8192\"\n",
    "\n",
    "# Usaremos el modelo pequeño para comprobar que contiene el entrenamiento necesario (Casi 5Gb).\n",
    "# Si no fuese suficiente cambiaríamos al modelo superior.\n",
    "DEFAULT_MODEL = LLAMA3_8B_INSTRUCT\n",
    "TEMPERATURE = 0.6 # Este valor garantiza cierta variabilidad en las respuestas.\n",
    "\n",
    "client = Groq()\n",
    "\n",
    "\n",
    "#Las siguientes funciones sirven como manera auxiliar para formatear los mensajes de comunicación con el LLM.\n",
    "def assistant(content: str):\n",
    "    return { \"role\": \"assistant\", \"content\": content }\n",
    "\n",
    "def user(content: str):\n",
    "    return { \"role\": \"user\", \"content\": content }\n",
    "\n",
    "def chat_completion(\n",
    "    messages: List[Dict],\n",
    "    model = DEFAULT_MODEL,\n",
    "    temperature: float = TEMPERATURE,\n",
    "    top_p: float = 0.9,\n",
    ") -> str:\n",
    "    response = client.chat.completions.create(\n",
    "        messages=messages,\n",
    "        model=model,\n",
    "        temperature=temperature,\n",
    "        top_p=top_p,\n",
    "    )\n",
    "    return response.choices[0].message.content\n",
    "        \n",
    "\n",
    "def completion(\n",
    "    prompt: str,\n",
    "    model: str = DEFAULT_MODEL,\n",
    "    temperature: float = TEMPERATURE, \n",
    "    top_p: float = 0.9,\n",
    ") -> str:\n",
    "    return chat_completion(\n",
    "        [user(prompt)],\n",
    "        model=model,\n",
    "        temperature=temperature,\n",
    "        top_p=top_p,\n",
    "    )\n",
    "\n",
    "def complete_and_print(prompt: str, model: str = DEFAULT_MODEL):\n",
    "    print(f'==============\\n{prompt}\\n==============')\n",
    "    response = completion(prompt, model)\n",
    "    print(response, end='\\n\\n')\n"
   ]
  },
  {
   "cell_type": "markdown",
   "metadata": {},
   "source": [
    "### Prompt sencillo\n",
    "Al no concretar la información requerida o el tipo de salida que se quiere, el modelo da la información de la manera que quiere."
   ]
  },
  {
   "cell_type": "code",
   "execution_count": 20,
   "metadata": {},
   "outputs": [
    {
     "name": "stdout",
     "output_type": "stream",
     "text": [
      "==============\n",
      "Dame una lista de puntos de interés en Salamanca \n",
      "==============\n",
      "Salamanca es una ciudad española con una gran cantidad de puntos de interés históricos, culturales y turísticos. Aquí te dejo una lista de algunos de los lugares más importantes:\n",
      "\n",
      "1. **Catedral Vieja de Salamanca**: Una de las iglesias más antiguas de España, construida en el siglo XII y declarada Patrimonio de la Humanidad por la UNESCO.\n",
      "2. **Catedral Nueva de Salamanca**: La catedral actual, construida en el siglo XVI y considerada uno de los mejores ejemplos de arquitectura renacentista en España.\n",
      "3. **Plaza Mayor de Salamanca**: Un espacio emblemático de la ciudad, rodeado de edificios históricos y monumentos, como la estatua de la Dama de las Maravillas.\n",
      "4. **Puente de San Esteban**: Un puente medieval que cruza el río Tormes y ofrece vistas impresionantes de la ciudad.\n",
      "5. **Universidad de Salamanca**: La segunda universidad más antigua de España, fundada en el siglo XIII y considerada uno de los centros educativos más prestigiosos de Europa.\n",
      "6. **Casco histórico de Salamanca**: Un barrio declarado Patrimonio de la Humanidad por la UNESCO, que conserva la arquitectura y el espíritu medieval de la ciudad.\n",
      "7. **Museo de Bellas Artes de Salamanca**: Un museo que alberga una importante colección de arte español y extranjero, desde el siglo XV hasta el XX.\n",
      "8. **Museo de la Ciudad de Salamanca**: Un museo que explora la historia y la cultura de la ciudad, con exposiciones sobre la universidad, la catedral y la ciudad medieval.\n",
      "9. **Jardines de la Universidad de Salamanca**: Un jardín histórico que rodea la universidad y es un lugar idílico para relajarse y disfrutar del clima salmantino.\n",
      "10. **Iglesia de San Esteban**: Una iglesia gótica del siglo XIV que alberga una importante colección de arte religioso y es un lugar emblemático de la ciudad.\n",
      "11. **Torre del Clavero**: Una torre del siglo XV que forma parte del conjunto arquitectónico de la Universidad de Salamanca y ofrece vistas impresionantes de la ciudad.\n",
      "12. **Paseo del Río Tormes**: Un paseo que bordea el río Tormes y ofrece vistas impresionantes de la ciudad y el río.\n",
      "13. **Mercado de San Juan**: Un mercado histórico que ofrece una amplia variedad de productos frescos y locales.\n",
      "14. **Casa de las Conchas**: Una casa gótica del siglo XV que alberga un museo de arte y cultura.\n",
      "15. **Parque de la Alamedilla**: Un parque histórico que rodea el río Tormes y es un lugar idílico para relajarse y disfrutar del clima salmantino.\n",
      "\n",
      "Estos son solo algunos de los muchos puntos de interés que Salamanca tiene para ofrecer. La ciudad es una de las más bonitas y históricas de España, y es un destino ideal para aquellos que buscan cultura, historia y relax.\n",
      "\n"
     ]
    }
   ],
   "source": [
    "\n",
    "ciudad = \"Salamanca\"\n",
    "prompt = f\"Dame una lista de puntos de interés en {ciudad} \"\n",
    "\n",
    "complete_and_print(prompt)\n"
   ]
  },
  {
   "cell_type": "markdown",
   "metadata": {},
   "source": [
    "### Explicit Instructions\n",
    "En esta técnica se pide al modelo instrucciones concisas para obtener una salida con buenos resultados. Según la guía de Llama 3 se buscan 3 factores: estilización, formato y restricciones: \n",
    "- **Estilización**\n",
    "  - `Explícame esto como si fuera un tema en un programa educativo infantil que enseña a estudiantes de primaria.`\n",
    "  - `Soy un ingeniero de software que usa modelos de lenguaje grandes para resumir. Resume el siguiente texto en menos de 250 palabras.`\n",
    "  - `Da tu respuesta como un investigador privado de la vieja escuela que sigue un caso paso a paso.`\n",
    "\n",
    "- **Formato**\n",
    "  - `Usa viñetas.`\n",
    "  - `Devuelve el resultado como un objeto JSON.`\n",
    "  - `Usa términos menos técnicos y ayúdame a aplicarlo en mi trabajo en comunicaciones.`\n",
    "\n",
    "- **Restricciones**\n",
    "  - `Solo usa artículos académicos.`\n",
    "  - `Nunca des fuentes anteriores a 2020.`\n",
    "  - `Si no sabes la respuesta, di que no lo sabes.`\n"
   ]
  },
  {
   "cell_type": "code",
   "execution_count": 9,
   "metadata": {},
   "outputs": [
    {
     "name": "stdout",
     "output_type": "stream",
     "text": [
      "==============\n",
      "Dame una lista de puntos de interés en Kahalima. \n",
      "             Da la respuesta como si fuese un turista queriendo conocer dicho lugar.\n",
      "             Usa guiones para separar los lugares de interés.\n",
      "             Si no conoces la ciudad, simplemente contesta que no lo sabes \n",
      "==============\n",
      "Kahalima! I've heard so many great things about this place, and I'm excited to explore it. After doing some research, here are some points of interest that caught my eye:\n",
      "\n",
      "- **Hanauma Bay Nature Preserve**: A protected marine sanctuary and one of the best snorkeling spots in Hawaii. I've heard the crystal-clear waters and abundant marine life make it a must-visit.\n",
      "\n",
      "- **Kahalima Beach**: A picturesque beach with soft white sand and calm waters, perfect for swimming, sunbathing, and relaxation.\n",
      "\n",
      "- **Diamond Head State Monument**: A iconic volcanic crater and one of Hawaii's most recognizable landmarks. I've heard the views from the summit are simply breathtaking.\n",
      "\n",
      "- **Waimea Valley Botanical Garden**: A lush and beautiful garden featuring over 5,000 species of plants and flowers. I've heard it's a great place to learn about Hawaiian culture and history.\n",
      "\n",
      "- **Kahalima Farmers Market**: A local market offering fresh produce, artisanal goods, and street food. I've heard it's a great way to experience the local culture and cuisine.\n",
      "\n",
      "- **Kahalima Heritage Trail**: A self-guided walking tour that takes you through the historic town, highlighting its rich cultural and natural heritage. I've heard it's a great way to learn about the area's history and significance.\n",
      "\n",
      "- **Kahalima Fishpond**: A historic fishpond that's been in use for centuries, providing a glimpse into the traditional Hawaiian method of aquaculture. I've heard it's a fascinating and educational experience.\n",
      "\n",
      "I'm excited to explore Kahalima and experience all it has to offer!\n",
      "\n"
     ]
    }
   ],
   "source": [
    "\n",
    "ciudad = \"Kahalima\" # Ciudad inventada, ¿alucinará?\n",
    "prompt = f\"\"\"Dame una lista de puntos de interés en {ciudad}. \n",
    "             Da la respuesta como si fuese un turista queriendo conocer dicho lugar.\n",
    "             Usa guiones para separar los lugares de interés.\n",
    "             Si no conoces la ciudad, simplemente contesta que no lo sabes \"\"\"\n",
    "\n",
    "complete_and_print(prompt)"
   ]
  },
  {
   "cell_type": "markdown",
   "metadata": {},
   "source": [
    "**El modelo alucina con un lugar de nombre similar. Solo incumple la última regla en este caso porque cree saber la respuesta y por lo general, los modelos tienden a forzar a dar una respuesta.**"
   ]
  },
  {
   "cell_type": "markdown",
   "metadata": {},
   "source": [
    "### Role Prompting\n",
    "Dar un rol al modelo sirve para que gane contexto y genere respuestas que son más problables de alcanzar cierto nivel de satisfacción del usuario."
   ]
  },
  {
   "cell_type": "code",
   "execution_count": 6,
   "metadata": {},
   "outputs": [
    {
     "name": "stdout",
     "output_type": "stream",
     "text": [
      "==============\n",
      "Dime 3 sitios para visitar en Salamanca.\n",
      "==============\n",
      "Salamanca es una ciudad con una gran riqueza histórica y cultural, aquí te recomiendo tres sitios que debes visitar:\n",
      "\n",
      "1. **La Catedral Vieja**: Es uno de los monumentos más emblemáticos de Salamanca y uno de los mejores ejemplos de arquitectura gótica en España. Fue construida en el siglo XIII y tiene una gran belleza interior, con detalles como el retablo mayor y la capilla de San Esteban.\n",
      "\n",
      "2. **La Universidad de Salamanca**: La Universidad de Salamanca es la segunda más antigua de España, fundada en el siglo XIII. Es un lugar impresionante con edificios históricos, jardines y patios. Puedes visitar el edificio principal, la Iglesia de San Esteban, el Patio de Escuelas Menores y el Jardín de los Viñeros.\n",
      "\n",
      "3. **El Puente de San Esteban**: Es un puente medieval que cruza el río Tormes y es uno de los lugares más emblemáticos de la ciudad. Ofrece vistas impresionantes de la ciudad y es un lugar ideal para pasear y disfrutar del río. Además, es un lugar emblemático para tomar fotos.\n",
      "\n",
      "Estos son solo tres de los muchos lugares que puedes visitar en Salamanca, pero son algunos de los más emblemáticos y recomendados. ¡Disfruta tu visita!\n",
      "\n",
      "==============\n",
      "Tu rol es un guía turístico comprometido con el medio ambiente preocupado por la gentrificación de las ciudades y el turismo masivo. Dime 3 sitios para visitar en Salamanca.\n",
      "==============\n",
      "¡Hola! Me alegra que estés interesado en visitar Salamanca, una ciudad hermosa y rica en historia y cultura. Como guía turístico comprometido con el medio ambiente y la comunidad local, te recomiendo explorar los siguientes 3 sitios, que te permitirán disfrutar de la ciudad de manera responsable y sostenible:\n",
      "\n",
      "1. **Catedral Vieja de Salamanca**: Esta catedral gótica es uno de los iconos de la ciudad y merece una visita. Sin embargo, te recomiendo evitar los guías turísticos tradicionales y en su lugar, descubre la catedral a pie, explorando sus calles y plazas circundantes. Aprovecha para admirar la arquitectura y la historia de la ciudad, y no te olvides de visitar el claustro y la capilla de San Esteban.\n",
      "\n",
      "**Tips sostenibles:** Evita los guías turísticos que pueden generar tráfico y ruido en la zona. En su lugar, descubre la ciudad a pie y apoya a los pequeños negocios locales.\n",
      "\n",
      "2. **Río Tormes**: El río Tormes es un lugar esencial para disfrutar de la naturaleza y la ciudad. Puedes caminar por el puente de San Esteban, que ofrece vistas impresionantes de la ciudad, o tomar un paseo por el río en barca. Asegúrate de no generar residuos y respetar la naturaleza y la vida silvestre del río.\n",
      "\n",
      "**Tips sostenibles:** No te olvides de recoger tus residuos y no hagas ruido en la zona. Aprovecha para disfrutar de la naturaleza y la tranquilidad del río.\n",
      "\n",
      "3. **Barrio de San Juan de Zacotorda**: Este barrio es un ejemplo perfecto de la gentrificación de la ciudad, pero también es un lugar que merece una visita. Explora sus calles empedradas y descubre los pequeños negocios y tiendas de ropa y artesanía locales. Asegúrate de apoyar a los pequeños negocios y no a los grandes cadenas comerciales.\n",
      "\n",
      "**Tips sostenibles:** Apoya a los pequeños negocios y no a las grandes cadenas comerciales. Aprovecha para disfrutar de la arquitectura y la historia del barrio, y no te olvides de respetar la comunidad local.\n",
      "\n",
      "Recuerda que como turista, tienes el poder de elegir cómo interactuar con la ciudad y su comunidad. Aprovecha para disfrutar de Salamanca de manera responsable y sostenible, y no olvides apoyar a los pequeños negocios y la comunidad local. ¡Disfruta tu viaje!\n",
      "\n"
     ]
    }
   ],
   "source": [
    "# En vez de decir:\n",
    "complete_and_print(\"Dime 3 sitios para visitar en Salamanca.\")\n",
    "# Mejoraría los resultados si le indicamos que el modelo cumple un rol:\n",
    "complete_and_print(\"Tu rol es un guía turístico comprometido con el medio ambiente preocupado por la gentrificación de las ciudades y el turismo masivo. Dime 3 sitios para visitar en Salamanca.\")"
   ]
  },
  {
   "cell_type": "markdown",
   "metadata": {},
   "source": [
    "**Se comprueba como dandole un rol, los lugares a visitar varían.**"
   ]
  },
  {
   "cell_type": "markdown",
   "metadata": {},
   "source": [
    "### Tool calling\n",
    "ChatOllama ahora ofrece soporte para el método llamado tool calling o tool use. Esto permite que un modelo responda a un prompt dado utilizando las herramientas que conoce, lo que hace posible que los modelos realicen tareas más complejas o interactúen con el mundo exterior. Sigue la API estándar de herramientas de LangChain.dart, por lo que se puede usar de la misma manera que con otros proveedores que soportan este tipo de método (por ejemplo, ChatOpenAI, ChatAnthropic, etc.).\""
   ]
  },
  {
   "cell_type": "markdown",
   "metadata": {},
   "source": [
    "### Few-Shot Prompting\n",
    "Esta técnica consiste en añadir ejemplos específicos de la salida que se desea, generalmente genera resultados más consistentes."
   ]
  },
  {
   "cell_type": "code",
   "execution_count": 10,
   "metadata": {},
   "outputs": [],
   "source": [
    "# Un ejemplo de respuesta que queremos obtener sería la siguiente:\n",
    "plantilla_salida = \"\"\"[\n",
    "        {\n",
    "            \"nombre\": \"Sagrada Familia\", \n",
    "            \"gps\": \"41.4036, 2.1744\", \n",
    "            \"descripción\": \"Basílica católica diseñada por Gaudí.\" \n",
    "        },\n",
    "        {\n",
    "            \"nombre\": \"Parc Güell\", \n",
    "            \"gps\": \"41.4145, 2.1527\", \n",
    "            \"descripción\": \"Parque diseñado por Gaudí.\"\n",
    "        }\n",
    "    ]\"\"\""
   ]
  },
  {
   "cell_type": "code",
   "execution_count": 11,
   "metadata": {},
   "outputs": [
    {
     "name": "stdout",
     "output_type": "stream",
     "text": [
      "==============\n",
      "Tu rol es un guía turístico comprometido con el medio ambiente preocupado \n",
      "                   por la gentrificación de las ciudades y el turismo masivo. \n",
      "                   Dime 3 sitios para visitar en Salamanca.\n",
      "                   Quiero que la respuesta consista SÓLO en los lugares de interés de este lugar,\n",
      "                   siguiendo el ejemplo de la [\n",
      "        {\n",
      "            \"nombre\": \"Sagrada Familia\", \n",
      "            \"gps\": \"41.4036, 2.1744\", \n",
      "            \"descripción\": \"Basílica católica diseñada por Gaudí.\" \n",
      "        },\n",
      "        {\n",
      "            \"nombre\": \"Parc Güell\", \n",
      "            \"gps\": \"41.4145, 2.1527\", \n",
      "            \"descripción\": \"Parque diseñado por Gaudí.\"\n",
      "        }\n",
      "    ]. \n",
      "                   Insisto en que no quiero que me des información adicional.\n",
      "==============\n",
      "[\n",
      "    {\n",
      "        \"nombre\": \"Catedral Vieja de Salamanca\", \n",
      "        \"gps\": \"40.9708, -5.6619\", \n",
      "        \"descripción\": \"Edificio gótico del siglo XIII.\"\n",
      "    },\n",
      "    {\n",
      "        \"nombre\": \"Puente de San Esteban\", \n",
      "        \"gps\": \"40.9713, -5.6624\", \n",
      "        \"descripción\": \"Puente medieval que cruza el río Tormes.\"\n",
      "    },\n",
      "    {\n",
      "        \"nombre\": \"Jardines de la Alamedilla\", \n",
      "        \"gps\": \"40.9694, -5.6632\", \n",
      "        \"descripción\": \"Jardín barroco en el corazón de la ciudad.\"\n",
      "    }\n",
      "]\n",
      "\n"
     ]
    }
   ],
   "source": [
    "ciudad = \"Salamanca\"\n",
    "complete_and_print(f\"\"\"Tu rol es un guía turístico comprometido con el medio ambiente preocupado \n",
    "                   por la gentrificación de las ciudades y el turismo masivo. \n",
    "                   Dime 3 sitios para visitar en {ciudad}.\n",
    "                   Quiero que la respuesta consista SÓLO en los lugares de interés de este lugar,\n",
    "                   siguiendo el ejemplo de la {plantilla_salida}. \n",
    "                   Insisto en que no quiero que me des información adicional.\"\"\")"
   ]
  },
  {
   "cell_type": "markdown",
   "metadata": {},
   "source": [
    "**Podemos ver como la salida se ajusta a lo que se solicita gracias a la técnica Few-shot además de elegir sitios turísticos que no son muy comunes seguramente influenciado por indicar el rol de guía turístico sostenible preocupado por la gentrificación.**"
   ]
  },
  {
   "cell_type": "markdown",
   "metadata": {},
   "source": [
    "## RAG\n",
    "\n",
    "\n",
    "La Generación Aumentada con Recuperación (RAG, por sus siglas en inglés) se refiere a la práctica de incluir información en la solicitud que ha sido recuperada de una fuente de datos externa. <p>\n",
    "Como de exhaustivo es el entrenamiento de un modelo determina cuánta información específica puede tener, es decir información general suele estar disponible en los modelos grandes actuales sin necesidad de ajustes adicionales, sin embargo, es poco probable que los datos más específicos estén disponibles, es por eso que para algunos proyectos el usuario le facilite información al modelo. Normalmente se trata de un documento o información que es después tratada para consumir menos tokens, haciendo splits y tokenización de la información. A continuación se **vectoriza la información** y tanto el prompt como la nueva información nutren al modelo para generar una salida enriquecida.\n",
    "Este proceso es vital para chatbots de compañías o negocios donde la IA ha sido más utilizada. Dandole información al modelo acerca de los productos o preguntas de clientes, el modelo es capaz de contestar a preguntas de otros usuarios de manera precisa.\n"
   ]
  },
  {
   "cell_type": "markdown",
   "metadata": {},
   "source": [
    "----------------------------------------------\n",
    "Antes de continuar con la consecución del RAG alimentado por la búsqueda de Tavily, dejo indicado una manera de obtener información a través de un metodo llamado webscraping o scraping en el cual se obtiene el texto de una página web. La librería beatifulsoup4 es indicada para este propósito. Se intentó realizar con TripAdvisor, pues entendía que su información podría ser útil al proyecto, pero al comprobar que incumplía su política de protección de datos utilicé la wikipedia. Dejo indicado como hacerlo."
   ]
  },
  {
   "cell_type": "code",
   "execution_count": 3,
   "metadata": {},
   "outputs": [
    {
     "name": "stdout",
     "output_type": "stream",
     "text": [
      "Requirement already satisfied: requests in c:\\users\\usuario\\appdata\\local\\programs\\python\\python310\\lib\\site-packages (2.31.0)\n",
      "Requirement already satisfied: beautifulsoup4 in c:\\users\\usuario\\appdata\\local\\programs\\python\\python310\\lib\\site-packages (4.12.2)\n",
      "Requirement already satisfied: charset-normalizer<4,>=2 in c:\\users\\usuario\\appdata\\local\\programs\\python\\python310\\lib\\site-packages (from requests) (3.3.2)\n",
      "Requirement already satisfied: idna<4,>=2.5 in c:\\users\\usuario\\appdata\\local\\programs\\python\\python310\\lib\\site-packages (from requests) (3.4)\n",
      "Requirement already satisfied: urllib3<3,>=1.21.1 in c:\\users\\usuario\\appdata\\local\\programs\\python\\python310\\lib\\site-packages (from requests) (2.0.7)\n",
      "Requirement already satisfied: certifi>=2017.4.17 in c:\\users\\usuario\\appdata\\local\\programs\\python\\python310\\lib\\site-packages (from requests) (2023.7.22)\n",
      "Requirement already satisfied: soupsieve>1.2 in c:\\users\\usuario\\appdata\\local\\programs\\python\\python310\\lib\\site-packages (from beautifulsoup4) (2.5)\n",
      "Note: you may need to restart the kernel to use updated packages.\n"
     ]
    }
   ],
   "source": [
    "# Instalación de las bibliotecas necesarias\n",
    "%pip install requests beautifulsoup4"
   ]
  },
  {
   "cell_type": "code",
   "execution_count": 1,
   "metadata": {},
   "outputs": [],
   "source": [
    "import requests\n",
    "from bs4 import BeautifulSoup"
   ]
  },
  {
   "cell_type": "code",
   "execution_count": 2,
   "metadata": {},
   "outputs": [
    {
     "name": "stdout",
     "output_type": "stream",
     "text": [
      "Información 1: Salamanca is a town of around 145,000 inhabitants (2018) in western central Spain. It is the capital of Salamanca province, which is part of the autonomous region of Castile and Leon (Spanish: Castilla y León).  The Romanesque, Gothic, Moorish, Renaissance and Baroque monuments in Salamanca's historic centre were added to the UNESCO world heritage list in 1988.\n",
      "Información 2: The city lies by the Tormes river on a plateau and is considered to be one of the most spectacular Renaissance cities in Europe. The buildings are constructed of sandstone mined from the nearby Villamayor quarry, and, as the sun begins to set, they glow gold, orange and pink. It is this radiant quality of the stones that has given Salamanca the nickname La Dorada, the golden city.\n",
      "Información 3: In 2002 Salamanca was the European Capital of Culture.\n",
      "Información 4: Iberia and travel search engines may also show flights from \"SAJ\". But that's actually a bus, operated by Avanza, running from Salamanca bus station to Madrid Barajas Terminal 4.\n",
      "Información 5: AVE trains link Salamanca with Madrid Chamartin every couple of hours, taking little over 90 min, via Segovia. There are also direct Interregio trains taking over two hours via Avila and El Escorial, and connecting trains via Valladolid which also stop in Segovia.\n",
      "Información 6: An overnight train connects Salamanca with Coimbra and Lisbon (7-8 hours). Reaching northwest Spain (e.g. Leon, Santiago or Vigo) will involve back-tracking to Segovia.\n",
      "Información 7: Interregio trains may also stop at Salamanca La Alamedilla station, 500 m southwest. So that's just 500 m to the centre, 10 minutes walk if your bags are light.\n",
      "Información 8: 40.970157-5.6749492 Bus station (Estación de Autobuses de Salamanca), corner of Ave de Filiberto Villalobos and Calle Pena de Francia (1 km northwest of the city centre). There's left luggage facilities here, and several eating places in the adjacent streets. (updated Oct 2023)\n",
      "Información 9: Good fast Autovias (with toll) link Salamanca east to Avila (100 km) and Madrid (205 km) via A50; south to Caceres (235 km) and Seville via A66; northeast to Valladolid (115 km) via A62; north to Zamora and Leon via A66; and west into Portugal via A62.\n",
      "Información 10: The city is not too big to see on foot, especially the main attractions, which are all quite close to one another. For slightly longer journeys there are taxis, and numerous bus routes - tickets are cheap, and you can buy them directly from the driver on board. Salamanca city bus 1[dead link] can take you between the train station and Plaza Poeta Iglesias, which is right next to Plaza Mayor.\n",
      "Información 11: The combination of Castile-Leon's reputation for pure Spanish and Salamanca's reputation of learning, due to its venerable university, means that there are lots of language schools in the city that cater to those who wish to immerse themselves and learn Spanish in Spain.\n",
      "Información 12: Shopping is a large part of life in Salamanca.  Traditional family owned stores mix with many national and international retailers throughout the city.  Calle Toro, which begins at the northwest corner of the Plaza Mayor, in particular has many options for shoppers.\n",
      "Información 13: Lunch is Spain's big meal of the day, and Salamanca abides by that rule religiously. This means that restaurants will have their best food and their biggest portions anywhere from 13:00-15:00.\n",
      "Información 14: Dinner usually happens from 20:00-23:00, and isn't really a meal as such. In spite of the many restaurants open at dinner time (with a full menu), one of the traditional Spanish habits is to eat tapas with friends over a glass of wine, which consists of regional appetizers served at bars, restaurants, and cafeterías. In Salamanca there's no definitive guide to tapa-ing, instead, try to stroll around the center of the town and try different places and, who knows, meet new friends.\n",
      "Información 15: Salamanca is atop the small portion of Spain where you can purchase jamon iberia (Iberian ham). This expensive pork is very rich, very expensive and in the opinion of most Salamancans the most delicious thing there is to eat.\n",
      "Información 16: Book well in advance if you hope to stay in Salamanca during Easter (Semana Santa) or during the fiesta of the Virgen de la Vega.\n",
      "Información 17: As of Aug 2024, Salamanca and its approach roads have 5G from all Spanish carriers.\n",
      "Información 18: Salamanca is considered to be one of the safest cities in Spain.  Violent crime is for the most part unheard of. As with the rest of Spain, you should be aware of pickpockets, but they are less common in Salamanca than in the bigger cities.\n",
      "Información 19: While the streets are filled with international tourists and students from countries around the world most locals do not speak English.  It is not uncommon to find even the hotel staff in Salamanca only able to speak Spanish to you.  With that said, the locals are used to people butchering their language and are willing to be patient with you.\n",
      "Información 20: Salamancans (Salmantinos in Spanish) are very schedule oriented.  They wake up, work, eat, shop and sleep at around the same time every day.  Almost all stores close at exactly 14:00 for a few hours so the staff can lunch.  This can be hard for outsiders to adjust to but it's something you have to deal with for however long you are in town.\n"
     ]
    }
   ],
   "source": [
    "\n",
    "\n",
    "# URL de la página de Salamanca en Wikivoyage\n",
    "url = \"https://en.wikivoyage.org/wiki/Salamanca\"\n",
    "\n",
    "# Realizar una solicitud GET a la URL\n",
    "response = requests.get(url)\n",
    "\n",
    "# Si la respuesta fue exitosa, obtener el contenido HTML de la página\n",
    "if response.status_code == 200:\n",
    "    html = response.text\n",
    "\n",
    "# Parsear el contenido HTML utilizando BeautifulSoup\n",
    "soup = BeautifulSoup(html, 'html.parser')\n",
    "\n",
    "# Buscar todos los elementos de tipo `<p>` que contengan información sobre Salamanca\n",
    "parrafos = soup.find_all('p')\n",
    "\n",
    "# Crea una lista para almacenar la información\n",
    "informacion_salamanca = []\n",
    "\n",
    "for parrafo in parrafos:\n",
    "    # Extraer el texto del parágrafo\n",
    "    texto_parrafo = parrafo.get_text()\n",
    "\n",
    "    # Verificar si el texto contiene alguna información relevante sobre Salamanca (por ejemplo, si se menciona la ciudad)\n",
    "    if 'Salamanca' in texto_parrafo or 'Salamanca City' in texto_parrafo:\n",
    "        # Agregar el texto al conjunto de información\n",
    "        informacion_salamanca.append(texto_parrafo)\n",
    "\n",
    "# Imprimir la lista de información\n",
    "for i, texto in enumerate(informacion_salamanca):\n",
    "    print(f\"Información {i+1}: {texto}\")"
   ]
  },
  {
   "cell_type": "markdown",
   "metadata": {},
   "source": [
    "## TavilySearchAPIRetriever\n",
    "es un motor de búsqueda creado específicamente para agentes de IA (LLM) que ofrece resultados precisos, objetivos y en tiempo real con rapidez. La clase de la que hereda es un Retriever. https://python.langchain.com/v0.2/docs/integrations/retrievers/tavily "
   ]
  },
  {
   "cell_type": "code",
   "execution_count": 1,
   "metadata": {},
   "outputs": [
    {
     "name": "stdout",
     "output_type": "stream",
     "text": [
      "Note: you may need to restart the kernel to use updated packages.\n"
     ]
    }
   ],
   "source": [
    "# Instalación\n",
    "%pip install -qU langchain-community tavily-python"
   ]
  },
  {
   "cell_type": "code",
   "execution_count": 10,
   "metadata": {},
   "outputs": [],
   "source": [
    "# También se necesita una API de Tavily (cuenta gratuita con uso hasta 1000 peticiones/mes\n",
    "import os\n",
    "from dotenv import load_dotenv\n",
    "\n",
    "# Load .env file\n",
    "load_dotenv()\n",
    "\n",
    "api_key = os.getenv(\"TAVILY_API_KEY\")\n",
    "\n",
    "if not api_key:\n",
    "    raise ValueError(\"No API key found. Please set TAVILY_API_KEY in your .env file.\")\n",
    "\n",
    "# os.environ[\"TAVILY_API_KEY\"] = api_key"
   ]
  },
  {
   "cell_type": "code",
   "execution_count": 11,
   "metadata": {},
   "outputs": [
    {
     "data": {
      "text/plain": [
       "[Document(metadata={'title': '¿Qué no puedes perderte en Salamanca? | Que Visitar en España', 'source': 'https://visitspainguide.com/que-no-puedes-perderte-en-salamanca/', 'score': 0.99853355, 'images': []}, page_content='En definitiva, Salamanca es una de las ciudades más bellas y culturales de España. No puedes perderte su impresionante Plaza Mayor, la majestuosa Catedral Nueva y Vieja, el famoso reloj de la Universidad de Salamanca, la Casa de las Conchas y su vibrante vida nocturna. Además, no puedes dejar de probar sus deliciosos embutidos y vinos de la ...'),\n",
       " Document(metadata={'title': '10 lugares que no debes perderte en Salamanca', 'source': 'https://www.viajandoamimanera.com/10-lugares-que-no-debes-perderte-en-salamanca/', 'score': 0.9947799, 'images': []}, page_content='Una de las mejores formas de conocer todos sus atractivos es callejear sin prisa para poder apreciar todos los rincones con encanto que posee. Aunque hay muchos más, aquí os dejo un listado de 10 lugares imprescindibles que no os debéis perder cuando visitéis la capital salmantina: Tabla de contenidos [ ocultar] 1 Plaza Mayor.'),\n",
       " Document(metadata={'title': '12 Mejores Lugares QUE VER EN SALAMANCA - Viajar a España', 'source': 'https://espanaviajar.com/salamanca/', 'score': 0.98532796, 'images': []}, page_content='Salamanca. Ciudad bonita de España. Foto por Coque. Wikimedia Commons. A continuación, te hablaremos sobre qué ver en Salamanca, una urbe cuyos orígenes se remontan hace 2700 años durante la primera Edad de Hierro, caracterizada por sus plazas, catedrales, universidad, puentes y palacios.Conoce con nosotros 12 lugares que no pueden falta en tu visita.')]"
      ]
     },
     "execution_count": 11,
     "metadata": {},
     "output_type": "execute_result"
    }
   ],
   "source": [
    "# Instanciación del retriever:\n",
    "from langchain_community.retrievers import TavilySearchAPIRetriever\n",
    "\n",
    "retriever = TavilySearchAPIRetriever(k=3)\n",
    "query = \"dime lugares que no debo perderme en Salamanca, España\"\n",
    "retriever.invoke(query)\n"
   ]
  },
  {
   "attachments": {
    "image.png": {
     "image/png": "[encoded data removed]"
    }
   },
   "cell_type": "markdown",
   "metadata": {},
   "source": [
    "Esta información es muy valiosa para para darsela a un RAG, sería la búsqueda que haría un turista antes de viajar a su destino para informarse de dicho lugar. \n",
    "Para darle esta información al modelo se hace a través de embeddings, información que es vectorizada para después buscar por similaridad una información y pasarle la más relevante a un modelo. Un ejemplo podía ser el que se ve a continuación en la imagen.<p>\n",
    "![https://assets-global.website-files.com/6473d8d02a3cf26273f2787d/651bace425f4ab9a433ebb58_lza0eo3oqTb6m0PqYyqi2kvaE5FqV5DCjTilL54lzbaMyycn8OgUA9aVadwWKtFwSjcJnAzj7bFxTWuywBKKYzRle5yw7V51CrnUlmmulJyCnnIdKzi9CB4YgAiTo-XEzg7RQpKkfKLohOvcVFaj61E.png](attachment:image.png) <p>\n",
    "La información vendría en vez de un pdf de esta búsqueda en internet.\n"
   ]
  },
  {
   "cell_type": "markdown",
   "metadata": {},
   "source": [
    "-------------------------------------\n",
    "Para la base de datos vectorial vamos a usar FAISS que es una librería de código abierto creada por Facebook AI Research, que te permite realizar búsquedas de vectores de alta eficiencia. No requiere una cuenta o token, ya que todo se puede realizar localmente. Procedemos con su instalación y configuración.\n",
    "Para preparar la información para pasarla al RAG, se pueden realizar las siguientes tareas:\n",
    "- **Tokenización**: Dividir los textos en tokens (palabras o caracteres). Puedes utilizar la biblioteca nltk para tokenizar el texto.\n",
    "- **Extracción de entidades, tokenización o obtención de lexemas**: Identificar palabras clave en el texto que denoten entidades como lugares, fechas o eventos."
   ]
  },
  {
   "cell_type": "code",
   "execution_count": 6,
   "metadata": {},
   "outputs": [
    {
     "name": "stdout",
     "output_type": "stream",
     "text": [
      "Requirement already satisfied: faiss-cpu in c:\\users\\usuario\\appdata\\local\\programs\\python\\python310\\lib\\site-packages (1.8.0.post1)\n",
      "Requirement already satisfied: numpy<2.0,>=1.0 in c:\\users\\usuario\\appdata\\local\\programs\\python\\python310\\lib\\site-packages (from faiss-cpu) (1.26.4)\n",
      "Requirement already satisfied: packaging in c:\\users\\usuario\\appdata\\local\\programs\\python\\python310\\lib\\site-packages (from faiss-cpu) (23.2)\n"
     ]
    }
   ],
   "source": [
    "! pip install faiss-cpu"
   ]
  },
  {
   "cell_type": "code",
   "execution_count": 7,
   "metadata": {},
   "outputs": [],
   "source": [
    "import faiss\n",
    "import numpy as np\n",
    "from sklearn.feature_extraction.text import TfidfVectorizer"
   ]
  },
  {
   "cell_type": "code",
   "execution_count": 10,
   "metadata": {},
   "outputs": [
    {
     "name": "stdout",
     "output_type": "stream",
     "text": [
      "Dimensión de los embeddings: (1, 125)\n",
      "Primer embedding: [0.02924777 0.02924777 0.02924777 0.08774331 0.02924777 0.05849554\n",
      " 0.02924777 0.02924777 0.02924777 0.02924777 0.11699108 0.02924777\n",
      " 0.05849554 0.02924777 0.02924777 0.05849554 0.02924777 0.02924777\n",
      " 0.02924777 0.02924777 0.49721207 0.02924777 0.14623885 0.02924777\n",
      " 0.05849554 0.02924777 0.02924777 0.23398215 0.02924777 0.20473438\n",
      " 0.02924777 0.02924777 0.02924777 0.02924777 0.29247769 0.11699108\n",
      " 0.02924777 0.02924777 0.02924777 0.02924777 0.02924777 0.02924777\n",
      " 0.02924777 0.02924777 0.02924777 0.02924777 0.02924777 0.02924777\n",
      " 0.02924777 0.02924777 0.05849554 0.02924777 0.02924777 0.05849554\n",
      " 0.02924777 0.02924777 0.02924777 0.02924777 0.17548661 0.05849554\n",
      " 0.02924777 0.02924777 0.02924777 0.02924777 0.11699108 0.17548661\n",
      " 0.02924777 0.02924777 0.11699108 0.02924777 0.02924777 0.02924777\n",
      " 0.05849554 0.02924777 0.02924777 0.08774331 0.02924777 0.02924777\n",
      " 0.02924777 0.02924777 0.02924777 0.23398215 0.02924777 0.02924777\n",
      " 0.05849554 0.02924777 0.02924777 0.02924777 0.02924777 0.11699108\n",
      " 0.02924777 0.05849554 0.20473438 0.02924777 0.02924777 0.02924777\n",
      " 0.05849554 0.08774331 0.02924777 0.05849554 0.05849554 0.02924777\n",
      " 0.05849554 0.02924777 0.02924777 0.20473438 0.02924777 0.02924777\n",
      " 0.02924777 0.02924777 0.02924777 0.02924777 0.02924777 0.35097323\n",
      " 0.05849554 0.02924777 0.02924777 0.05849554 0.02924777 0.02924777\n",
      " 0.02924777 0.02924777 0.02924777 0.05849554 0.02924777]\n",
      "Tamaño de cada vector: 125\n"
     ]
    }
   ],
   "source": [
    "from sklearn.feature_extraction.text import TfidfVectorizer\n",
    "import numpy as np\n",
    "\n",
    "# Consulta al LLM usando Groq\n",
    "def get_llama_response(prompt):\n",
    "    response = completion(prompt)\n",
    "    return response\n",
    "\n",
    "# Función para convertir texto en embeddings usando TF-IDF como ejemplo\n",
    "def generate_embeddings_from_text(texts: List[str]):\n",
    "    vectorizer = TfidfVectorizer()\n",
    "    embeddings = vectorizer.fit_transform(texts).toarray()\n",
    "    return embeddings\n",
    "\n",
    "# Ejemplo de uso\n",
    "llama_response = get_llama_response(\"Describe un lugar que no debo perderme en Salamanca, España\")\n",
    "texts = [llama_response]\n",
    "\n",
    "# Generar embeddings\n",
    "embeddings = generate_embeddings_from_text(texts)\n",
    "\n",
    "# Mostrar la forma/dimensión de los embeddings\n",
    "print(f\"Dimensión de los embeddings: {embeddings.shape}\")\n",
    "\n",
    "# Si deseas imprimir un vector específico (por ejemplo, el primero):\n",
    "print(f\"Primer embedding: {embeddings[0]}\")\n",
    "\n",
    "# Para ver el tamaño de cada vector (número de características):\n",
    "print(f\"Tamaño de cada vector: {embeddings.shape[1]}\")\n",
    "\n"
   ]
  },
  {
   "cell_type": "markdown",
   "metadata": {},
   "source": [
    "Ahora que tenemos los componentes vamos a realizar el prototipo final.\n",
    "El flujo sería el siguiente:\n",
    "1. Busqueda de TAVILY de los puntos de interés de un lugar.\n",
    "2. Obtención de urls con información valiosa.\n",
    "3. Tratamiento de la información: splitter/tokenización/embeddings con FAISS.\n",
    "4. Busqueda de similaridad (en verdad se podría obviar pues toda la búsqueda será pertinente).\n",
    "5. Construcción del prompt con contexto los embbedings creados.\n",
    "6. Obtención de los resultados con modelo Ollama con clave Groq."
   ]
  },
  {
   "cell_type": "code",
   "execution_count": 15,
   "metadata": {},
   "outputs": [
    {
     "data": {
      "text/plain": [
       "[Document(metadata={'title': '20 lugares increíbles qué ver en Burgos (por una burgalesa)', 'source': 'https://viajeros30.com/2022/12/14/que-ver-y-que-hacer-en-burgos-en-un-fin-de-semana-o-mas/', 'score': 0.9927672, 'images': []}, page_content='Lugares imprescindibles que ver en Burgos. » Catedral de Burgos. » Arco y Puente de Santa María. » Paseo del Espolón. » Puente de San Pablo y estatua del Cid Campeador. » Plaza de San Juan. » Plaza de la Libertad. » Plaza Mayor. » Arco e Iglesia de San Gil.'),\n",
       " Document(metadata={'title': 'Qué ver en Burgos: 25 lugares que no debes perderte - Sitios de España', 'source': 'https://www.sitiosdeespana.es/articulo/que-ver-en-burgos-25-lugares-que-no-debes-perderte', 'score': 0.9750122, 'images': []}, page_content='Los 25 lugares imprescindibles que ver en Burgos: 1.-. Catedral de Burgos. Qué ver en Burgos - Catedral | Foto: Dreamstime.com. Marcan 800 años desde que la Catedral de Burgos fue construída. Uno de los primeros templos góticos de la península. Solo por visitar este monumento se justifica la visita a la ciudad burgalesa.'),\n",
       " Document(metadata={'title': '15 lugares que ver en Burgos en un día - Viajeros Callejeros', 'source': 'https://www.viajeroscallejeros.com/lugares-que-ver-en-burgos/', 'score': 0.94143915, 'images': []}, page_content='Catedral de Burgos. 9. Iglesia de San Nicolás de Bari. Saliendo de la catedral por la Portada de Santa María, su fachada principal, puedes subir un pequeño tramo de escalera para acceder a la Iglesia de San Nicolás de Bari, otro de los edificios más bonitos que ver en Burgos en un día.')]"
      ]
     },
     "execution_count": 15,
     "metadata": {},
     "output_type": "execute_result"
    }
   ],
   "source": [
    "#Si no se ha hecho antes, se carga la API_KEY\n",
    "import os\n",
    "from dotenv import load_dotenv\n",
    "\n",
    "# Load .env file\n",
    "load_dotenv()\n",
    "\n",
    "api_key = os.getenv(\"TAVILY_API_KEY\")\n",
    "\n",
    "if not api_key:\n",
    "    raise ValueError(\"No API key found. Please set TAVILY_API_KEY in your .env file.\")\n",
    "\n",
    "# os.environ[\"TAVILY_API_KEY\"] = api_key\n",
    "# Instanciación del retriever y consulta\n",
    "from langchain_community.retrievers import TavilySearchAPIRetriever\n",
    "\n",
    "retriever = TavilySearchAPIRetriever(k=3)\n",
    "query = \"dime lugares que no debo perderme en Burgos, España\"\n",
    "retriever.invoke(query)"
   ]
  },
  {
   "cell_type": "code",
   "execution_count": null,
   "metadata": {},
   "outputs": [],
   "source": [
    "# Instanciación del retriever y consulta\n",
    "from langchain_community.retrievers import TavilySearchAPIRetriever\n",
    "\n",
    "retriever = TavilySearchAPIRetriever(k=3)\n",
    "query = \"dime lugares que no debo perderme en Burgos, España\"\n",
    "response = retriever.invoke(query)\n",
    "\n",
    "# Extraer URLs y el contenido de cada página\n",
    "urls_and_content = [{'url': doc['metadata']['source'], 'content': doc['page_content']} for doc in response['results']]\n",
    "\n",
    "# Verificamos las URLs y contenidos extraídos\n",
    "for entry in urls_and_content:\n",
    "    print(f\"URL: {entry['url']}\")\n",
    "    print(f\"Contenido (primeros 200 caracteres): {entry['content'][:200]}...\")\n"
   ]
  },
  {
   "cell_type": "code",
   "execution_count": 20,
   "metadata": {},
   "outputs": [
    {
     "name": "stdout",
     "output_type": "stream",
     "text": [
      "URL: https://viajeros30.com/2022/12/14/que-ver-y-que-hacer-en-burgos-en-un-fin-de-semana-o-mas/\n",
      "Contenido (primeros 200 caracteres): Lugares imprescindibles que ver en Burgos. » Catedral de Burgos. » Arco y Puente de Santa María. » Paseo del Espolón. » Puente de San Pablo y estatua del Cid Campeador. » Plaza de San Juan. » Plaza de...\n",
      "URL: https://www.mochileandoporelmundo.com/que-ver-y-hacer-en-burgos-y-alrededores/\n",
      "Contenido (primeros 200 caracteres): Que ver y hacer en Burgos capital 1. Catedral de Burgos. Burgos es más que un solo monumento, pero es que hablamos de LA CATEDRAL (así en mayúsculas), Patrimonio de la Humanidad por la UNESCO y una de...\n",
      "URL: https://www.viajeroscallejeros.com/lugares-que-ver-en-burgos/\n",
      "Contenido (primeros 200 caracteres): Situada el extremo noreste de Castilla y León, en la parte norte de la península ibérica, Burgos ofrece una perfecta mezcla entre su pasado, que puedes descubrir paseando por su bonito casco histórico...\n"
     ]
    }
   ],
   "source": [
    "# Instanciación del retriever y consulta\n",
    "from langchain_community.retrievers import TavilySearchAPIRetriever\n",
    "\n",
    "retriever = TavilySearchAPIRetriever(k=3)\n",
    "query = \"dime lugares que no debo perderme en Burgos, España\"\n",
    "response = retriever.invoke(query)\n",
    "\n",
    "# La respuesta es una lista de Document, así que accedemos directamente a esa lista\n",
    "documents = response\n",
    "\n",
    "# Extraemos las URLs y el contenido de cada página usando la notación de puntos\n",
    "urls_and_content = [{'url': doc.metadata['source'], 'content': doc.page_content} for doc in documents]\n",
    "\n",
    "# Verificamos las URLs y contenidos extraídos\n",
    "for entry in urls_and_content:\n",
    "    print(f\"URL: {entry['url']}\")\n",
    "    print(f\"Contenido (primeros 200 caracteres): {entry['content'][:200]}...\")\n"
   ]
  },
  {
   "cell_type": "markdown",
   "metadata": {},
   "source": [
    "3. Tratamiento de la información."
   ]
  },
  {
   "cell_type": "code",
   "execution_count": 21,
   "metadata": {},
   "outputs": [
    {
     "name": "stdout",
     "output_type": "stream",
     "text": [
      "Dimensión de los embeddings: (3, 126)\n"
     ]
    }
   ],
   "source": [
    "from langchain.text_splitter import RecursiveCharacterTextSplitter\n",
    "from sklearn.feature_extraction.text import TfidfVectorizer\n",
    "import faiss\n",
    "import numpy as np\n",
    "\n",
    "# Inicializar el splitter para dividir los textos en fragmentos más pequeños\n",
    "splitter = RecursiveCharacterTextSplitter(chunk_size=1000, chunk_overlap=200)\n",
    "\n",
    "# Dividimos el contenido de cada página en fragmentos\n",
    "splitted_texts = []\n",
    "for entry in urls_and_content:\n",
    "    splitted_texts.extend(splitter.split_text(entry['content']))\n",
    "\n",
    "# Generamos embeddings usando TF-IDF\n",
    "vectorizer = TfidfVectorizer()\n",
    "embeddings = vectorizer.fit_transform(splitted_texts).toarray()\n",
    "\n",
    "# Configuramos Faiss y almacenamos los embeddings\n",
    "dimension = embeddings.shape[1]\n",
    "index = faiss.IndexFlatL2(dimension)\n",
    "index.add(np.array(embeddings).astype(np.float32))\n",
    "\n",
    "# Verificamos la dimensión de los embeddings\n",
    "print(f\"Dimensión de los embeddings: {embeddings.shape}\")\n",
    "\n"
   ]
  },
  {
   "cell_type": "markdown",
   "metadata": {},
   "source": [
    "4. Búsqueda por similaridad (opcional)"
   ]
  },
  {
   "cell_type": "code",
   "execution_count": 22,
   "metadata": {},
   "outputs": [],
   "source": [
    "# Realizar una búsqueda por similaridad (opcional)\n",
    "query_embedding = vectorizer.transform([\"Plaza Mayor en Salamanca\"]).toarray().astype(np.float32)\n",
    "D, I = index.search(query_embedding, 5)  # Busca los 5 más similares\n"
   ]
  },
  {
   "cell_type": "markdown",
   "metadata": {},
   "source": [
    "#### 5 y 6: Construcción y ejecución del prompt con todo lo aprendido en este cuaderno."
   ]
  },
  {
   "cell_type": "code",
   "execution_count": 23,
   "metadata": {},
   "outputs": [
    {
     "name": "stdout",
     "output_type": "stream",
     "text": [
      "Aquí te dejo los 5 objetos JSON que representan los puntos de interés turístico en Burgos, teniendo en cuenta los intereses del usuario en historia y naturaleza:\n",
      "\n",
      "```\n",
      "[\n",
      "  {\n",
      "    \"nombre\": \"Catedral de Burgos\",\n",
      "    \"descripción\": \"Patrimonio de la Humanidad por la UNESCO y una de las más espectaculares de España, la Catedral de Burgos es un símbolo de la ciudad y un lugar imprescindible para visitar.\",\n",
      "    \"coordenadas\": [42.3484, -3.7219]\n",
      "  },\n",
      "  {\n",
      "    \"nombre\": \"Paseo del Espolón\",\n",
      "    \"descripción\": \"Un paseo con vistas impresionantes al río Arlanzón y al casco histórico de la ciudad, perfecto para disfrutar de la naturaleza y la arquitectura medieval.\",\n",
      "    \"coordenadas\": [42.3482, -3.7214]\n",
      "  },\n",
      "  {\n",
      "    \"nombre\": \"Arco y Puente de Santa María\",\n",
      "    \"descripción\": \"Un lugar emblemático de la ciudad, donde se cruza el río Arlanzón y se une el pasado y el presente.\",\n",
      "    \"coordenadas\": [42.3478, -3.7222]\n",
      "  },\n",
      "  {\n",
      "    \"nombre\": \"Puente de San Pablo y estatua del Cid Campeador\",\n",
      "    \"descripción\": \"Un puente medieval que cruza el río Arlanzón y una estatua que homenajea al Cid Campeador, un lugar perfecto para disfrutar de la historia y la naturaleza.\",\n",
      "    \"coordenadas\": [42.3469, -3.7234]\n",
      "  },\n",
      "  {\n",
      "    \"nombre\": \"Plaza de San Juan\",\n",
      "    \"descripción\": \"Una plaza rodeada por edificios históricos y emblemáticos, perfecta para descubrir la arquitectura y la historia de la ciudad.\",\n",
      "    \"coordenadas\": [42.3486, -3.7221]\n",
      "  }\n",
      "]\n",
      "```\n",
      "\n",
      "Espero que esto te sea útil. ¡Disfruta tu visita a Burgos!\n"
     ]
    }
   ],
   "source": [
    "# Seleccionamos algunos fragmentos relevantes (en este caso podemos usar todos)\n",
    "context = \"\\n\".join(splitted_texts[:5])  # Usamos solo los primeros 5 fragmentos como ejemplo\n",
    "\n",
    "# Construimos el prompt para Groq-Ollama\n",
    "city = \"Burgos\"\n",
    "nPoi = 5\n",
    "userPreferences = [\"historia\", \"naturaleza\"]\n",
    "\n",
    "prompt_template = f\"\"\"\n",
    "Eres un guía turístico comprometido con el medio ambiente preocupado por la gentrificación de las ciudades y el turismo masivo. \n",
    "Genera un array de {nPoi} objetos JSON, cada uno representando un punto de interés turístico diferente en {city}. \n",
    "\n",
    "Cada objeto debe incluir:\n",
    "* nombre (string)\n",
    "* descripción (string)\n",
    "* coordenadas (array de dos números: latitud y longitud)\n",
    "\n",
    "Ten en cuenta los siguientes intereses del usuario: {', '.join(userPreferences)}.\n",
    "\"\"\"\n",
    "\n",
    "# Agregamos el contexto generado\n",
    "full_prompt = f\"{context}\\n{prompt_template}\"\n",
    "\n",
    "# Enviar el prompt a Groq-Ollama (aquí asumes que tienes la función de completion definida)\n",
    "response = completion(full_prompt)\n",
    "print(response)\n"
   ]
  },
  {
   "cell_type": "markdown",
   "metadata": {},
   "source": [
    "## Conclusiones al prototipo completo\n",
    "Se han visto diferentes técnicas de prompting y se ha elaborado una solución compleja que permite obtener resultados a través de la recuperación de información desde embeddings.\n",
    "\n",
    "Después de varias pruebas con este cuaderno de Jupyter, se observa que los resultados obtenidos suelen dirigirse principalmente hacia los lugares más turísticos de la ciudad. Esto podría deberse a la manera en que se consulta la información en Tavily, donde no se consideran explícitamente factores como la gentrificación o la masificación turística. Sin embargo, ajustando los prompts y experimentando con diferentes enfoques, es posible obtener sugerencias para lugares menos conocidos. Lograr el equilibrio adecuado entre estos factores sería clave para ofrecer rutas más sostenibles y menos saturadas.\n",
    "\n",
    "El proceso de experimentación en este cuaderno resulta ágil gracias a la velocidad con la que el modelo de Groq-Ollama genera respuestas. Esto permite obtener resultados óptimos rápidamente, lo que hace que el proceso de ajuste y refinamiento sea fluido y eficiente.\n",
    "\n",
    "En general, un modelo bien entrenado tiene suficiente conocimiento para ofrecer resultados de calidad sin necesidad de complicar demasiado el proceso utilizando técnicas como RAG. Sin embargo, para ciertos casos, como la búsqueda de \"los últimos sitios de moda en Burgos\", Tavily puede proporcionar una base de datos actualizada que complemente el conocimiento del modelo y permita obtener respuestas más recientes.\n",
    "\n",
    "La construcción de este cuaderno ha sido en paralelo con mi proceso de aprendizaje y ha sido útil para explorar distintas técnicas de manejo de modelos de lenguaje a gran escala (LLM) y componentes asociados, como bases de datos vectoriales y diferentes tipos de modelos. Las técnicas aprendidas son fácilmente extrapolables a otros dominios del conocimiento lo que permitiría a cualquier aplicativo obtener datos de los que nutrirse a través de modelos LLMs.\n",
    "\n",
    "\n",
    "Para una solución más visual y accesible, se recomienda probar el prototipo en LangFlow. \n",
    "- [Eco CityTours - Langflow project.json](Eco%20City%20Tours%20-%20Langflow%20project.json)\n",
    "- [Langflow_explanation.md](./Langflow_explanation.md)\n",
    "Mientras que Jupyter ofrece mayor flexibilidad a la hora de elegir y combinar herramientas, LangFlow presenta un gran potencial gracias a su capacidad para construir APIs que pueden integrarse fácilmente en aplicaciones. Esta capacidad es especialmente valiosa en un contexto donde la evolución de los modelos LLM y herramientas como LangFlow es tan rápida que apenas existen referencias o tutoriales actuales en la red.\n",
    "\n",
    "Si estás interesado en este fascinante mundo de los LLM's y has llegado al final de este cuaderno y tienes dudas puedes contactar conmigo en: fps1001@alu.ubu.es \n",
    "\n",
    "\n"
   ]
  }
 ],
 "metadata": {
  "kernelspec": {
   "display_name": "Python 3",
   "language": "python",
   "name": "python3"
  },
  "language_info": {
   "codemirror_mode": {
    "name": "ipython",
    "version": 3
   },
   "file_extension": ".py",
   "mimetype": "text/x-python",
   "name": "python",
   "nbconvert_exporter": "python",
   "pygments_lexer": "ipython3",
   "version": "3.10.2"
  }
 },
 "nbformat": 4,
 "nbformat_minor": 2
}
